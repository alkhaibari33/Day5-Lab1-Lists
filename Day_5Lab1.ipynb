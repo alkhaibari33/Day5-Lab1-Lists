{
 "cells": [
  {
   "cell_type": "code",
   "execution_count": 1,
   "id": "1b407cb5",
   "metadata": {},
   "outputs": [
    {
     "name": "stdout",
     "output_type": "stream",
     "text": [
      "sum all the items in the list:  139\n"
     ]
    }
   ],
   "source": [
    "#Given the following list : [5, 4, 17, 19, 30, 2, 7, 10, 45]\n",
    "#Q1: Write a Python program to sum all the items in the list.\n",
    "\n",
    "list1 = [5, 4, 17, 19, 30, 2, 7, 10, 45] \n",
    "total = sum(list1)\n",
    "print(\"sum all the items in the list: \", total)"
   ]
  },
  {
   "cell_type": "code",
   "execution_count": 6,
   "id": "e11cbe91",
   "metadata": {},
   "outputs": [
    {
     "name": "stdout",
     "output_type": "stream",
     "text": [
      "largest number from the list: 45\n"
     ]
    }
   ],
   "source": [
    "#Q2: Write a Python program to get the largest number from the list.\n",
    "print(\"largest number from the list:\", max(list1))"
   ]
  },
  {
   "cell_type": "code",
   "execution_count": 5,
   "id": "ceb64fe9",
   "metadata": {},
   "outputs": [
    {
     "name": "stdout",
     "output_type": "stream",
     "text": [
      "Even numbers in the list:  [4, 30, 2, 10]\n"
     ]
    }
   ],
   "source": [
    "#Q3:using List Comprehension , create a new list from the above list containing only even numbers.\n",
    "even_numbers = [num for num in list1 if num % 2 == 0]\n",
    " \n",
    "print(\"Even numbers in the list: \", even_numbers)"
   ]
  },
  {
   "cell_type": "code",
   "execution_count": 4,
   "id": "31ff1ecd",
   "metadata": {},
   "outputs": [
    {
     "name": "stdout",
     "output_type": "stream",
     "text": [
      "The main list is : [5, 4, 17, 19, 30, 2, 7, 10, 45]\n",
      "The sliced list is : [2, 7, 10, 45]\n"
     ]
    }
   ],
   "source": [
    "#Q4: use list slicing to get a new list from the previous list starting from the start to the 5th element in the list.\n",
    "\n",
    "print (\"The main list is : \" + str(list1))  \n",
    "n = 5\n",
    "res = list1[n : None]  \n",
    "print (\"The sliced list is : \" +  str(res))"
   ]
  }
 ],
 "metadata": {
  "kernelspec": {
   "display_name": "Python 3 (ipykernel)",
   "language": "python",
   "name": "python3"
  },
  "language_info": {
   "codemirror_mode": {
    "name": "ipython",
    "version": 3
   },
   "file_extension": ".py",
   "mimetype": "text/x-python",
   "name": "python",
   "nbconvert_exporter": "python",
   "pygments_lexer": "ipython3",
   "version": "3.9.12"
  }
 },
 "nbformat": 4,
 "nbformat_minor": 5
}
